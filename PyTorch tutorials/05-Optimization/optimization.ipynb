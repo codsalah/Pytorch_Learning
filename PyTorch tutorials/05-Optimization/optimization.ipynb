{
 "cells": [
  {
   "cell_type": "code",
   "execution_count": 1,
   "metadata": {},
   "outputs": [
    {
     "name": "stderr",
     "output_type": "stream",
     "text": [
      "c:\\Users\\SALAH\\anaconda3\\Lib\\site-packages\\torchvision\\io\\image.py:13: UserWarning: Failed to load image Python extension: '[WinError 127] The specified procedure could not be found'If you don't plan on using image functionality from `torchvision.io`, you can ignore this warning. Otherwise, there might be something wrong with your environment. Did you have `libjpeg` or `libpng` installed before building `torchvision` from source?\n",
      "  warn(\n"
     ]
    },
    {
     "name": "stdout",
     "output_type": "stream",
     "text": [
      "Downloading http://fashion-mnist.s3-website.eu-central-1.amazonaws.com/train-images-idx3-ubyte.gz\n",
      "Downloading http://fashion-mnist.s3-website.eu-central-1.amazonaws.com/train-images-idx3-ubyte.gz to data\\FashionMNIST\\raw\\train-images-idx3-ubyte.gz\n"
     ]
    },
    {
     "name": "stderr",
     "output_type": "stream",
     "text": [
      "100%|██████████| 26421880/26421880 [00:08<00:00, 3273534.25it/s]\n"
     ]
    },
    {
     "name": "stdout",
     "output_type": "stream",
     "text": [
      "Extracting data\\FashionMNIST\\raw\\train-images-idx3-ubyte.gz to data\\FashionMNIST\\raw\n",
      "\n",
      "Downloading http://fashion-mnist.s3-website.eu-central-1.amazonaws.com/train-labels-idx1-ubyte.gz\n",
      "Downloading http://fashion-mnist.s3-website.eu-central-1.amazonaws.com/train-labels-idx1-ubyte.gz to data\\FashionMNIST\\raw\\train-labels-idx1-ubyte.gz\n"
     ]
    },
    {
     "name": "stderr",
     "output_type": "stream",
     "text": [
      "100%|██████████| 29515/29515 [00:00<00:00, 406654.17it/s]\n"
     ]
    },
    {
     "name": "stdout",
     "output_type": "stream",
     "text": [
      "Extracting data\\FashionMNIST\\raw\\train-labels-idx1-ubyte.gz to data\\FashionMNIST\\raw\n",
      "\n",
      "Downloading http://fashion-mnist.s3-website.eu-central-1.amazonaws.com/t10k-images-idx3-ubyte.gz\n",
      "Downloading http://fashion-mnist.s3-website.eu-central-1.amazonaws.com/t10k-images-idx3-ubyte.gz to data\\FashionMNIST\\raw\\t10k-images-idx3-ubyte.gz\n"
     ]
    },
    {
     "name": "stderr",
     "output_type": "stream",
     "text": [
      "100%|██████████| 4422102/4422102 [00:01<00:00, 3167586.85it/s]\n"
     ]
    },
    {
     "name": "stdout",
     "output_type": "stream",
     "text": [
      "Extracting data\\FashionMNIST\\raw\\t10k-images-idx3-ubyte.gz to data\\FashionMNIST\\raw\n",
      "\n",
      "Downloading http://fashion-mnist.s3-website.eu-central-1.amazonaws.com/t10k-labels-idx1-ubyte.gz\n",
      "Downloading http://fashion-mnist.s3-website.eu-central-1.amazonaws.com/t10k-labels-idx1-ubyte.gz to data\\FashionMNIST\\raw\\t10k-labels-idx1-ubyte.gz\n"
     ]
    },
    {
     "name": "stderr",
     "output_type": "stream",
     "text": [
      "100%|██████████| 5148/5148 [00:00<?, ?it/s]"
     ]
    },
    {
     "name": "stdout",
     "output_type": "stream",
     "text": [
      "Extracting data\\FashionMNIST\\raw\\t10k-labels-idx1-ubyte.gz to data\\FashionMNIST\\raw\n",
      "\n"
     ]
    },
    {
     "name": "stderr",
     "output_type": "stream",
     "text": [
      "\n"
     ]
    }
   ],
   "source": [
    "import torch\n",
    "from torch import nn\n",
    "from torch.utils.data import DataLoader\n",
    "from torchvision import datasets\n",
    "from torchvision.transforms import ToTensor\n",
    "\n",
    "training_data = datasets.FashionMNIST(\n",
    "    root=\"data\",\n",
    "    train=True,\n",
    "    download=True,\n",
    "    transform=ToTensor()\n",
    ")\n",
    "\n",
    "test_data = datasets.FashionMNIST(\n",
    "    root=\"data\",\n",
    "    train=False,\n",
    "    download=True,\n",
    "    transform=ToTensor()\n",
    ")\n",
    "\n",
    "train_dataloader = DataLoader(training_data, batch_size=64)\n",
    "test_dataloader = DataLoader(test_data, batch_size=64)\n",
    "\n",
    "class NeuralNetwork(nn.Module):\n",
    "    def __init__(self):\n",
    "        super().__init__()\n",
    "        self.flatten = nn.Flatten()\n",
    "        self.linear_relu_stack = nn.Sequential(\n",
    "            nn.Linear(28*28, 512),\n",
    "            nn.ReLU(),\n",
    "            nn.Linear(512, 512),\n",
    "            nn.ReLU(),\n",
    "            nn.Linear(512, 10),\n",
    "        )\n",
    "\n",
    "    def forward(self, x):\n",
    "        x = self.flatten(x)\n",
    "        logits = self.linear_relu_stack(x)\n",
    "        return logits\n",
    "\n",
    "model = NeuralNetwork()"
   ]
  },
  {
   "cell_type": "code",
   "execution_count": 2,
   "metadata": {},
   "outputs": [],
   "source": [
    "learning_rate = 1e-3\n",
    "batch_size = 64\n",
    "epochs = 5"
   ]
  },
  {
   "cell_type": "code",
   "execution_count": 3,
   "metadata": {},
   "outputs": [],
   "source": [
    "# Initialize the loss function\n",
    "loss_fn = nn.CrossEntropyLoss()"
   ]
  },
  {
   "cell_type": "markdown",
   "metadata": {},
   "source": [
    "Inside the training loop, optimization happens in three steps:\n",
    "\n",
    "1. **Reset Gradients**: Call `optimizer.zero_grad()` to reset the gradients of model parameters. Gradients by default add up; to prevent double-counting, we explicitly zero them at each iteration.\n",
    "\n",
    "2. **Backpropagation**: Backpropagate the prediction loss with a call to `loss.backward()`. PyTorch deposits the gradients of the loss w.r.t. each parameter.\n",
    "\n",
    "3. **Parameter Update**: Once we have our gradients, we call `optimizer.step()` to adjust the parameters by the gradients collected in the backward pass.\n"
   ]
  },
  {
   "cell_type": "code",
   "execution_count": 4,
   "metadata": {},
   "outputs": [],
   "source": [
    "optimizer = torch.optim.SGD(model.parameters(), lr=learning_rate)"
   ]
  },
  {
   "cell_type": "markdown",
   "metadata": {},
   "source": [
    "**Full Implementation**\n",
    "\n",
    "We define `train_loop` that loops over our optimization code, and `test_loop` that evaluates the model’s performance against our test data.\n"
   ]
  },
  {
   "cell_type": "code",
   "execution_count": 5,
   "metadata": {},
   "outputs": [],
   "source": [
    "def train_loop(dataloader, model, loss_fn, optimizer):\n",
    "    size = len(dataloader.dataset)\n",
    "    # Set the model to training mode - important for batch normalization and dropout layers\n",
    "    # Unnecessary in this situation but added for best practices\n",
    "    model.train()\n",
    "    for batch, (X, y) in enumerate(dataloader):\n",
    "        # Compute prediction and loss\n",
    "        pred = model(X)\n",
    "        loss = loss_fn(pred, y)\n",
    "\n",
    "        # Backpropagation\n",
    "        loss.backward()\n",
    "        optimizer.step()\n",
    "        optimizer.zero_grad()\n",
    "\n",
    "        if batch % 100 == 0:\n",
    "            loss, current = loss.item(), batch * batch_size + len(X)\n",
    "            print(f\"loss: {loss:>7f}  [{current:>5d}/{size:>5d}]\")\n",
    "\n",
    "\n",
    "def test_loop(dataloader, model, loss_fn):\n",
    "    # Set the model to evaluation mode - important for batch normalization and dropout layers\n",
    "    # Unnecessary in this situation but added for best practices\n",
    "    model.eval()\n",
    "    size = len(dataloader.dataset)\n",
    "    num_batches = len(dataloader)\n",
    "    test_loss, correct = 0, 0\n",
    "\n",
    "    # Evaluating the model with torch.no_grad() ensures that no gradients are computed during test mode\n",
    "    # also serves to reduce unnecessary gradient computations and memory usage for tensors with requires_grad=True\n",
    "    with torch.no_grad():\n",
    "        for X, y in dataloader:\n",
    "            pred = model(X)\n",
    "            test_loss += loss_fn(pred, y).item()\n",
    "            correct += (pred.argmax(1) == y).type(torch.float).sum().item()\n",
    "\n",
    "    test_loss /= num_batches\n",
    "    correct /= size\n",
    "    print(f\"Test Error: \\n Accuracy: {(100*correct):>0.1f}%, Avg loss: {test_loss:>8f} \\n\")"
   ]
  },
  {
   "cell_type": "code",
   "execution_count": 6,
   "metadata": {},
   "outputs": [
    {
     "name": "stdout",
     "output_type": "stream",
     "text": [
      "Epoch 1\n",
      "-------------------------------\n",
      "loss: 2.307289  [   64/60000]\n",
      "loss: 2.291691  [ 6464/60000]\n",
      "loss: 2.275367  [12864/60000]\n",
      "loss: 2.269310  [19264/60000]\n",
      "loss: 2.241053  [25664/60000]\n",
      "loss: 2.212889  [32064/60000]\n",
      "loss: 2.226881  [38464/60000]\n",
      "loss: 2.188827  [44864/60000]\n",
      "loss: 2.185959  [51264/60000]\n",
      "loss: 2.159252  [57664/60000]\n",
      "Test Error: \n",
      " Accuracy: 40.2%, Avg loss: 2.147214 \n",
      "\n",
      "Epoch 2\n",
      "-------------------------------\n",
      "loss: 2.159037  [   64/60000]\n",
      "loss: 2.147186  [ 6464/60000]\n",
      "loss: 2.085619  [12864/60000]\n",
      "loss: 2.107976  [19264/60000]\n",
      "loss: 2.047353  [25664/60000]\n",
      "loss: 1.984676  [32064/60000]\n",
      "loss: 2.021802  [38464/60000]\n",
      "loss: 1.935583  [44864/60000]\n",
      "loss: 1.939722  [51264/60000]\n",
      "loss: 1.877452  [57664/60000]\n",
      "Test Error: \n",
      " Accuracy: 58.9%, Avg loss: 1.865935 \n",
      "\n",
      "Epoch 3\n",
      "-------------------------------\n",
      "loss: 1.898745  [   64/60000]\n",
      "loss: 1.867866  [ 6464/60000]\n",
      "loss: 1.742931  [12864/60000]\n",
      "loss: 1.795684  [19264/60000]\n",
      "loss: 1.686497  [25664/60000]\n",
      "loss: 1.634117  [32064/60000]\n",
      "loss: 1.661531  [38464/60000]\n",
      "loss: 1.565790  [44864/60000]\n",
      "loss: 1.586970  [51264/60000]\n",
      "loss: 1.492693  [57664/60000]\n",
      "Test Error: \n",
      " Accuracy: 62.2%, Avg loss: 1.504166 \n",
      "\n",
      "Epoch 4\n",
      "-------------------------------\n",
      "loss: 1.568470  [   64/60000]\n",
      "loss: 1.537934  [ 6464/60000]\n",
      "loss: 1.385422  [12864/60000]\n",
      "loss: 1.469895  [19264/60000]\n",
      "loss: 1.350439  [25664/60000]\n",
      "loss: 1.342101  [32064/60000]\n",
      "loss: 1.355487  [38464/60000]\n",
      "loss: 1.291373  [44864/60000]\n",
      "loss: 1.323152  [51264/60000]\n",
      "loss: 1.228311  [57664/60000]\n",
      "Test Error: \n",
      " Accuracy: 62.8%, Avg loss: 1.250422 \n",
      "\n",
      "Epoch 5\n",
      "-------------------------------\n",
      "loss: 1.324991  [   64/60000]\n",
      "loss: 1.310231  [ 6464/60000]\n",
      "loss: 1.144523  [12864/60000]\n",
      "loss: 1.262756  [19264/60000]\n",
      "loss: 1.130111  [25664/60000]\n",
      "loss: 1.152149  [32064/60000]\n",
      "loss: 1.168692  [38464/60000]\n",
      "loss: 1.119386  [44864/60000]\n",
      "loss: 1.158367  [51264/60000]\n",
      "loss: 1.074560  [57664/60000]\n",
      "Test Error: \n",
      " Accuracy: 64.5%, Avg loss: 1.092165 \n",
      "\n",
      "Epoch 6\n",
      "-------------------------------\n",
      "loss: 1.162198  [   64/60000]\n",
      "loss: 1.165949  [ 6464/60000]\n",
      "loss: 0.984303  [12864/60000]\n",
      "loss: 1.132528  [19264/60000]\n",
      "loss: 0.993773  [25664/60000]\n",
      "loss: 1.023515  [32064/60000]\n",
      "loss: 1.053387  [38464/60000]\n",
      "loss: 1.007252  [44864/60000]\n",
      "loss: 1.049006  [51264/60000]\n",
      "loss: 0.978125  [57664/60000]\n",
      "Test Error: \n",
      " Accuracy: 65.7%, Avg loss: 0.988699 \n",
      "\n",
      "Epoch 7\n",
      "-------------------------------\n",
      "loss: 1.047024  [   64/60000]\n",
      "loss: 1.071069  [ 6464/60000]\n",
      "loss: 0.872490  [12864/60000]\n",
      "loss: 1.044739  [19264/60000]\n",
      "loss: 0.907012  [25664/60000]\n",
      "loss: 0.931467  [32064/60000]\n",
      "loss: 0.977841  [38464/60000]\n",
      "loss: 0.931494  [44864/60000]\n",
      "loss: 0.971630  [51264/60000]\n",
      "loss: 0.912005  [57664/60000]\n",
      "Test Error: \n",
      " Accuracy: 67.3%, Avg loss: 0.916768 \n",
      "\n",
      "Epoch 8\n",
      "-------------------------------\n",
      "loss: 0.960620  [   64/60000]\n",
      "loss: 1.003777  [ 6464/60000]\n",
      "loss: 0.790600  [12864/60000]\n",
      "loss: 0.980951  [19264/60000]\n",
      "loss: 0.848147  [25664/60000]\n",
      "loss: 0.862423  [32064/60000]\n",
      "loss: 0.924433  [38464/60000]\n",
      "loss: 0.878527  [44864/60000]\n",
      "loss: 0.914375  [51264/60000]\n",
      "loss: 0.863241  [57664/60000]\n",
      "Test Error: \n",
      " Accuracy: 68.4%, Avg loss: 0.863946 \n",
      "\n",
      "Epoch 9\n",
      "-------------------------------\n",
      "loss: 0.893066  [   64/60000]\n",
      "loss: 0.952216  [ 6464/60000]\n",
      "loss: 0.728109  [12864/60000]\n",
      "loss: 0.932085  [19264/60000]\n",
      "loss: 0.806004  [25664/60000]\n",
      "loss: 0.809595  [32064/60000]\n",
      "loss: 0.883946  [38464/60000]\n",
      "loss: 0.840316  [44864/60000]\n",
      "loss: 0.870862  [51264/60000]\n",
      "loss: 0.825101  [57664/60000]\n",
      "Test Error: \n",
      " Accuracy: 69.6%, Avg loss: 0.823445 \n",
      "\n",
      "Epoch 10\n",
      "-------------------------------\n",
      "loss: 0.838323  [   64/60000]\n",
      "loss: 0.910213  [ 6464/60000]\n",
      "loss: 0.678848  [12864/60000]\n",
      "loss: 0.893382  [19264/60000]\n",
      "loss: 0.773941  [25664/60000]\n",
      "loss: 0.768652  [32064/60000]\n",
      "loss: 0.851269  [38464/60000]\n",
      "loss: 0.811453  [44864/60000]\n",
      "loss: 0.836679  [51264/60000]\n",
      "loss: 0.794155  [57664/60000]\n",
      "Test Error: \n",
      " Accuracy: 70.9%, Avg loss: 0.791136 \n",
      "\n",
      "Done!\n"
     ]
    }
   ],
   "source": [
    "loss_fn = nn.CrossEntropyLoss()\n",
    "optimizer = torch.optim.SGD(model.parameters(), lr=learning_rate)\n",
    "\n",
    "epochs = 10\n",
    "for t in range(epochs):\n",
    "    print(f\"Epoch {t+1}\\n-------------------------------\")\n",
    "    train_loop(train_dataloader, model, loss_fn, optimizer)\n",
    "    test_loop(test_dataloader, model, loss_fn)\n",
    "print(\"Done!\")"
   ]
  },
  {
   "cell_type": "code",
   "execution_count": null,
   "metadata": {},
   "outputs": [],
   "source": []
  }
 ],
 "metadata": {
  "kernelspec": {
   "display_name": "base",
   "language": "python",
   "name": "python3"
  },
  "language_info": {
   "codemirror_mode": {
    "name": "ipython",
    "version": 3
   },
   "file_extension": ".py",
   "mimetype": "text/x-python",
   "name": "python",
   "nbconvert_exporter": "python",
   "pygments_lexer": "ipython3",
   "version": "3.11.5"
  }
 },
 "nbformat": 4,
 "nbformat_minor": 2
}
