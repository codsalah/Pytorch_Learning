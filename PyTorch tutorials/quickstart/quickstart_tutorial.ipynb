{
 "cells": [
  {
   "cell_type": "code",
   "execution_count": 1,
   "metadata": {},
   "outputs": [
    {
     "name": "stderr",
     "output_type": "stream",
     "text": [
      "c:\\Users\\SALAH\\anaconda3\\Lib\\site-packages\\torchvision\\io\\image.py:13: UserWarning: Failed to load image Python extension: '[WinError 127] The specified procedure could not be found'If you don't plan on using image functionality from `torchvision.io`, you can ignore this warning. Otherwise, there might be something wrong with your environment. Did you have `libjpeg` or `libpng` installed before building `torchvision` from source?\n",
      "  warn(\n"
     ]
    }
   ],
   "source": [
    "# https://pytorch.org/tutorials/beginner/colab\n",
    "%matplotlib inline\n",
    "import torch\n",
    "from torch import nn\n",
    "from torch.utils.data import DataLoader\n",
    "from torchvision import datasets\n",
    "from torchvision.transforms import ToTensor"
   ]
  },
  {
   "cell_type": "code",
   "execution_count": 2,
   "metadata": {},
   "outputs": [
    {
     "name": "stdout",
     "output_type": "stream",
     "text": [
      "Downloading http://fashion-mnist.s3-website.eu-central-1.amazonaws.com/train-images-idx3-ubyte.gz\n",
      "Downloading http://fashion-mnist.s3-website.eu-central-1.amazonaws.com/train-images-idx3-ubyte.gz to data\\FashionMNIST\\raw\\train-images-idx3-ubyte.gz\n"
     ]
    },
    {
     "name": "stderr",
     "output_type": "stream",
     "text": [
      "100%|██████████| 26421880/26421880 [00:07<00:00, 3565651.27it/s]\n"
     ]
    },
    {
     "name": "stdout",
     "output_type": "stream",
     "text": [
      "Extracting data\\FashionMNIST\\raw\\train-images-idx3-ubyte.gz to data\\FashionMNIST\\raw\n",
      "\n",
      "Downloading http://fashion-mnist.s3-website.eu-central-1.amazonaws.com/train-labels-idx1-ubyte.gz\n",
      "Downloading http://fashion-mnist.s3-website.eu-central-1.amazonaws.com/train-labels-idx1-ubyte.gz to data\\FashionMNIST\\raw\\train-labels-idx1-ubyte.gz\n"
     ]
    },
    {
     "name": "stderr",
     "output_type": "stream",
     "text": [
      "100%|██████████| 29515/29515 [00:00<00:00, 437702.22it/s]\n"
     ]
    },
    {
     "name": "stdout",
     "output_type": "stream",
     "text": [
      "Extracting data\\FashionMNIST\\raw\\train-labels-idx1-ubyte.gz to data\\FashionMNIST\\raw\n",
      "\n",
      "Downloading http://fashion-mnist.s3-website.eu-central-1.amazonaws.com/t10k-images-idx3-ubyte.gz\n",
      "Downloading http://fashion-mnist.s3-website.eu-central-1.amazonaws.com/t10k-images-idx3-ubyte.gz to data\\FashionMNIST\\raw\\t10k-images-idx3-ubyte.gz\n"
     ]
    },
    {
     "name": "stderr",
     "output_type": "stream",
     "text": [
      "100%|██████████| 4422102/4422102 [00:01<00:00, 2928825.55it/s]\n"
     ]
    },
    {
     "name": "stdout",
     "output_type": "stream",
     "text": [
      "Extracting data\\FashionMNIST\\raw\\t10k-images-idx3-ubyte.gz to data\\FashionMNIST\\raw\n",
      "\n",
      "Downloading http://fashion-mnist.s3-website.eu-central-1.amazonaws.com/t10k-labels-idx1-ubyte.gz\n",
      "Downloading http://fashion-mnist.s3-website.eu-central-1.amazonaws.com/t10k-labels-idx1-ubyte.gz to data\\FashionMNIST\\raw\\t10k-labels-idx1-ubyte.gz\n"
     ]
    },
    {
     "name": "stderr",
     "output_type": "stream",
     "text": [
      "100%|██████████| 5148/5148 [00:00<?, ?it/s]"
     ]
    },
    {
     "name": "stdout",
     "output_type": "stream",
     "text": [
      "Extracting data\\FashionMNIST\\raw\\t10k-labels-idx1-ubyte.gz to data\\FashionMNIST\\raw\n",
      "\n"
     ]
    },
    {
     "name": "stderr",
     "output_type": "stream",
     "text": [
      "\n"
     ]
    }
   ],
   "source": [
    "# Download training data from open datasets.\n",
    "training_data = datasets.FashionMNIST(\n",
    "    root=\"data\",\n",
    "    train=True,\n",
    "    download=True,\n",
    "    transform=ToTensor(),\n",
    ")\n",
    "\n",
    "# Download test data from open datasets.\n",
    "test_data = datasets.FashionMNIST(\n",
    "    root=\"data\",\n",
    "    train=False,\n",
    "    download=True,\n",
    "    transform=ToTensor(),\n",
    ")"
   ]
  },
  {
   "cell_type": "code",
   "execution_count": 4,
   "metadata": {},
   "outputs": [],
   "source": [
    "# Download training data from open datasets.\n",
    "training_data = datasets.FashionMNIST(\n",
    "    root=\"data\",\n",
    "    train=True,\n",
    "    download=True,\n",
    "    transform=ToTensor(),\n",
    ")\n",
    "\n",
    "# Download test data from open datasets.\n",
    "test_data = datasets.FashionMNIST(\n",
    "    root=\"data\",\n",
    "    train=False,\n",
    "    download=True,\n",
    "    transform=ToTensor(),\n",
    ")"
   ]
  },
  {
   "cell_type": "code",
   "execution_count": 14,
   "metadata": {},
   "outputs": [
    {
     "name": "stdout",
     "output_type": "stream",
     "text": [
      "Shape of X [N, C, H, W]: torch.Size([64, 1, 28, 28])\n",
      "Shape of y: torch.Size([64]) torch.int64\n"
     ]
    }
   ],
   "source": [
    "batch_size = 64                                                # Define the batch size for data loading\n",
    "\n",
    "# Create data loaders.\n",
    "train_dataloader = DataLoader(training_data, batch_size=batch_size)  # Create a DataLoader for training data, \n",
    "                                                                    # specifying the training_data and batch_size\n",
    "test_dataloader = DataLoader(test_data, batch_size=batch_size)      # Create a DataLoader for test data, \n",
    "                                                                    # specifying the test_data and batch_size\n",
    "\n",
    "for X, y in test_dataloader:                                    # Iterate through the batches of the test dataloader\n",
    "    print(f\"Shape of X [N, C, H, W]: {X.shape}\")               # Print the shape of the input data batch\n",
    "                                                                # [N, C, H, W] corresponds to [batch_size, channels, height, width]\n",
    "    print(f\"Shape of y: {y.shape} {y.dtype}\")                 # Print the shape and data type of the labels batch\n",
    "    break                                                       # Break the loop after processing the first batch\n"
   ]
  },
  {
   "cell_type": "code",
   "execution_count": 7,
   "metadata": {},
   "outputs": [
    {
     "name": "stdout",
     "output_type": "stream",
     "text": [
      "Using cpu device\n",
      "NeuralNetwork(\n",
      "  (flatten): Flatten(start_dim=1, end_dim=-1)\n",
      "  (linear_relu_stack): Sequential(\n",
      "    (0): Linear(in_features=784, out_features=512, bias=True)\n",
      "    (1): ReLU()\n",
      "    (2): Linear(in_features=512, out_features=512, bias=True)\n",
      "    (3): ReLU()\n",
      "    (4): Linear(in_features=512, out_features=10, bias=True)\n",
      "  )\n",
      ")\n"
     ]
    }
   ],
   "source": [
    "# Get cpu, gpu or mps device for training.\n",
    "device = (\n",
    "    \"cuda\"\n",
    "    if torch.cuda.is_available()\n",
    "    else \"mps\"\n",
    "    if torch.backends.mps.is_available()\n",
    "    else \"cpu\"\n",
    ")\n",
    "print(f\"Using {device} device\")\n",
    "\n",
    "# Define model\n",
    "class NeuralNetwork(nn.Module):                         # Define a class named NeuralNetwork which inherits from nn.Module\n",
    "    def __init__(self):                                 # Define the constructor method for the class\n",
    "        super().__init__()                              # Call the constructor of the superclass (nn.Module)\n",
    "        self.flatten = nn.Flatten()                      # Create a flatten layer to flatten the input\n",
    "        self.linear_relu_stack = nn.Sequential(          # Create a sequential container for linear layers and ReLU activations\n",
    "            nn.Linear(28*28, 512),                       # Define a linear layer with input size 28*28 and output size 512\n",
    "            nn.ReLU(),                                   # Apply ReLU activation function\n",
    "            nn.Linear(512, 512),                         # Define another linear layer with input and output size 512\n",
    "            nn.ReLU(),                                   # Apply ReLU activation function\n",
    "            nn.Linear(512, 10)                           # Define the final linear layer with input size 512 and output size 10\n",
    "        )\n",
    "\n",
    "    def forward(self, x):                                # Define the forward pass method\n",
    "        x = self.flatten(x)                              # Flatten the input tensor\n",
    "        logits = self.linear_relu_stack(x)               # Pass the flattened tensor through the sequential layers\n",
    "        return logits                                    # Return the output logits\n",
    "\n",
    "model = NeuralNetwork().to(device)                      # Instantiate the NeuralNetwork class and move it to the specified device\n",
    "print(model)                                             # Print the architecture of the model\n"
   ]
  },
  {
   "cell_type": "code",
   "execution_count": 8,
   "metadata": {},
   "outputs": [],
   "source": [
    "loss_fn = nn.CrossEntropyLoss()                          # Define the loss function as CrossEntropyLoss\n",
    "optimizer = torch.optim.SGD(model.parameters(), lr=1e-3) # Define the optimizer as Stochastic Gradient Descent (SGD)\n",
    "                                                          # with a learning rate of 1e-3, and specify that it should\n",
    "                                                          # optimize the parameters of the model\n"
   ]
  },
  {
   "cell_type": "code",
   "execution_count": 10,
   "metadata": {},
   "outputs": [],
   "source": [
    "def train(dataloader, model, loss_fn, optimizer):         # Define a function named train which takes a dataloader,\n",
    "                                                          # a model, a loss function, and an optimizer as input\n",
    "    size = len(dataloader.dataset)                        # Get the total size of the dataset\n",
    "    model.train()                                         # Set the model in training mode\n",
    "    for batch, (X, y) in enumerate(dataloader):           # Iterate over batches of data in the dataloader\n",
    "        X, y = X.to(device), y.to(device)                # Move the input data to the appropriate device\n",
    "\n",
    "        # Compute prediction error\n",
    "        pred = model(X)                                   # Forward pass: compute the predictions of the model\n",
    "        loss = loss_fn(pred, y)                           # Compute the loss between the predictions and the ground truth labels\n",
    "\n",
    "        # Backpropagation\n",
    "        loss.backward()                                   # Backward pass: compute gradients of the loss with respect to model parameters\n",
    "        optimizer.step()                                  # Update model parameters using the gradients and the optimizer\n",
    "        optimizer.zero_grad()                             # Zero the gradients to prevent them from accumulating\n",
    "\n",
    "        if batch % 100 == 0:                              # Print the loss and current progress every 100 batches\n",
    "            loss, current = loss.item(), (batch + 1) * len(X)\n",
    "            print(f\"loss: {loss:>7f}  [{current:>5d}/{size:>5d}]\")\n"
   ]
  },
  {
   "cell_type": "code",
   "execution_count": 16,
   "metadata": {},
   "outputs": [],
   "source": [
    "def test(dataloader, model, loss_fn):                  # Define a function named test which takes a dataloader,\n",
    "                                                      # a model, and loss function, as input\n",
    "    size = len(dataloader.dataset)                    # Get the total size of the dataset\n",
    "    num_batches = len(dataloader)                      # Get the total number of batches in the dataloader\n",
    "    model.eval()                                      # Set the model in evaluation mode\n",
    "    test_loss, correct = 0, 0                         # Initialize variables to keep track of test loss and correct predictions\n",
    "    with torch.no_grad():                             # Turn off gradient tracking during inference\n",
    "        for X, y in dataloader:                       # Iterate over batches of data in the dataloader\n",
    "            X, y = X.to(device), y.to(device)        # Move the input data and labels to the appropriate device\n",
    "            pred = model(X)                           # Forward pass: Compute predictions of the model for the input data\n",
    "            test_loss += loss_fn(pred, y).item()      # Compute the loss between the predictions and the actual labels and accumulate it\n",
    "            correct += (pred.argmax(1) == y).type(torch.float).sum().item()  # Compute the number of correct predictions\n",
    "\n",
    "    test_loss /= num_batches                          # Compute the average test loss across all batches\n",
    "    correct /= size                                   # Compute the accuracy by dividing the number of correct predictions by the total size of the dataset\n",
    "    print(f\"Test Error: \\n Accuracy: {(100*correct):>0.1f}%, Avg loss: {test_loss:>8f} \\n\")  # Print the test accuracy and average loss\n"
   ]
  },
  {
   "cell_type": "code",
   "execution_count": 17,
   "metadata": {},
   "outputs": [
    {
     "name": "stdout",
     "output_type": "stream",
     "text": [
      "Epoch 1\n",
      "-------------------------------\n",
      "loss: 1.593058  [   64/60000]\n",
      "loss: 1.554096  [ 6464/60000]\n",
      "loss: 1.409743  [12864/60000]\n",
      "loss: 1.474356  [19264/60000]\n",
      "loss: 1.385597  [25664/60000]\n",
      "loss: 1.371961  [32064/60000]\n",
      "loss: 1.383271  [38464/60000]\n",
      "loss: 1.306121  [44864/60000]\n",
      "loss: 1.336372  [51264/60000]\n",
      "loss: 1.239598  [57664/60000]\n",
      "Test Error: \n",
      " Accuracy: 61.5%, Avg loss: 1.267142 \n",
      "\n",
      "Epoch 2\n",
      "-------------------------------\n",
      "loss: 1.343862  [   64/60000]\n",
      "loss: 1.321099  [ 6464/60000]\n",
      "loss: 1.162178  [12864/60000]\n",
      "loss: 1.261115  [19264/60000]\n",
      "loss: 1.160411  [25664/60000]\n",
      "loss: 1.177934  [32064/60000]\n",
      "loss: 1.197412  [38464/60000]\n",
      "loss: 1.132840  [44864/60000]\n",
      "loss: 1.163508  [51264/60000]\n",
      "loss: 1.080834  [57664/60000]\n",
      "Test Error: \n",
      " Accuracy: 63.8%, Avg loss: 1.103531 \n",
      "\n",
      "Epoch 3\n",
      "-------------------------------\n",
      "loss: 1.175179  [   64/60000]\n",
      "loss: 1.169537  [ 6464/60000]\n",
      "loss: 0.994973  [12864/60000]\n",
      "loss: 1.123303  [19264/60000]\n",
      "loss: 1.013951  [25664/60000]\n",
      "loss: 1.043256  [32064/60000]\n",
      "loss: 1.077220  [38464/60000]\n",
      "loss: 1.019601  [44864/60000]\n",
      "loss: 1.047646  [51264/60000]\n",
      "loss: 0.977299  [57664/60000]\n",
      "Test Error: \n",
      " Accuracy: 65.2%, Avg loss: 0.994809 \n",
      "\n",
      "Epoch 4\n",
      "-------------------------------\n",
      "loss: 1.056238  [   64/60000]\n",
      "loss: 1.068957  [ 6464/60000]\n",
      "loss: 0.879237  [12864/60000]\n",
      "loss: 1.029631  [19264/60000]\n",
      "loss: 0.918399  [25664/60000]\n",
      "loss: 0.947048  [32064/60000]\n",
      "loss: 0.996126  [38464/60000]\n",
      "loss: 0.945345  [44864/60000]\n",
      "loss: 0.966060  [51264/60000]\n",
      "loss: 0.906960  [57664/60000]\n",
      "Test Error: \n",
      " Accuracy: 66.5%, Avg loss: 0.920057 \n",
      "\n",
      "Epoch 5\n",
      "-------------------------------\n",
      "loss: 0.968519  [   64/60000]\n",
      "loss: 0.998465  [ 6464/60000]\n",
      "loss: 0.796576  [12864/60000]\n",
      "loss: 0.963026  [19264/60000]\n",
      "loss: 0.853485  [25664/60000]\n",
      "loss: 0.876520  [32064/60000]\n",
      "loss: 0.938955  [38464/60000]\n",
      "loss: 0.895950  [44864/60000]\n",
      "loss: 0.907244  [51264/60000]\n",
      "loss: 0.856293  [57664/60000]\n",
      "Test Error: \n",
      " Accuracy: 67.7%, Avg loss: 0.866569 \n",
      "\n",
      "Done!\n"
     ]
    }
   ],
   "source": [
    "epochs = 5                                        # Define the number of epochs for training\n",
    "for t in range(epochs):                           # Iterate over each epoch\n",
    "    print(f\"Epoch {t+1}\\n-------------------------------\")  # Print the current epoch number\n",
    "    train(train_dataloader, model, loss_fn, optimizer)  # Train the model using the train_dataloader, loss function, and optimizer\n",
    "    test(test_dataloader, model, loss_fn)          # Evaluate the model using the test_dataloader and loss function\n",
    "print(\"Done!\")                                    # Print \"Done!\" when training and evaluation are complete\n"
   ]
  },
  {
   "cell_type": "code",
   "execution_count": 18,
   "metadata": {},
   "outputs": [
    {
     "name": "stdout",
     "output_type": "stream",
     "text": [
      "Saved PyTorch Model State to model.pth\n"
     ]
    }
   ],
   "source": [
    "torch.save(model.state_dict(), \"model.pth\")\n",
    "print(\"Saved PyTorch Model State to model.pth\")"
   ]
  },
  {
   "cell_type": "code",
   "execution_count": 19,
   "metadata": {},
   "outputs": [
    {
     "data": {
      "text/plain": [
       "<All keys matched successfully>"
      ]
     },
     "execution_count": 19,
     "metadata": {},
     "output_type": "execute_result"
    }
   ],
   "source": [
    "model = NeuralNetwork().to(device)\n",
    "model.load_state_dict(torch.load(\"model.pth\"))"
   ]
  },
  {
   "cell_type": "code",
   "execution_count": 20,
   "metadata": {},
   "outputs": [
    {
     "name": "stdout",
     "output_type": "stream",
     "text": [
      "Predicted: \"Ankle boot\", Actual: \"Ankle boot\"\n"
     ]
    }
   ],
   "source": [
    "classes = [\n",
    "    \"T-shirt/top\",\n",
    "    \"Trouser\",\n",
    "    \"Pullover\",\n",
    "    \"Dress\",\n",
    "    \"Coat\",\n",
    "    \"Sandal\",\n",
    "    \"Shirt\",\n",
    "    \"Sneaker\",\n",
    "    \"Bag\",\n",
    "    \"Ankle boot\",\n",
    "]\n",
    "\n",
    "model.eval()\n",
    "x, y = test_data[0][0], test_data[0][1]\n",
    "with torch.no_grad():\n",
    "    x = x.to(device)\n",
    "    pred = model(x)\n",
    "    predicted, actual = classes[pred[0].argmax(0)], classes[y]\n",
    "    print(f'Predicted: \"{predicted}\", Actual: \"{actual}\"')"
   ]
  },
  {
   "cell_type": "code",
   "execution_count": null,
   "metadata": {},
   "outputs": [],
   "source": []
  }
 ],
 "metadata": {
  "kernelspec": {
   "display_name": "Python 3",
   "language": "python",
   "name": "python3"
  },
  "language_info": {
   "codemirror_mode": {
    "name": "ipython",
    "version": 3
   },
   "file_extension": ".py",
   "mimetype": "text/x-python",
   "name": "python",
   "nbconvert_exporter": "python",
   "pygments_lexer": "ipython3",
   "version": "3.11.5"
  }
 },
 "nbformat": 4,
 "nbformat_minor": 2
}
