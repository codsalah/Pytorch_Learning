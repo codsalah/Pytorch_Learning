{
 "cells": [
  {
   "cell_type": "markdown",
   "metadata": {},
   "source": [
    "# Tensor Operations"
   ]
  },
  {
   "cell_type": "code",
   "execution_count": 1,
   "metadata": {},
   "outputs": [],
   "source": [
    "import torch"
   ]
  },
  {
   "cell_type": "code",
   "execution_count": 2,
   "metadata": {},
   "outputs": [
    {
     "data": {
      "text/plain": [
       "tensor([0, 1, 2, 3, 4, 5, 6, 7, 8, 9])"
      ]
     },
     "execution_count": 2,
     "metadata": {},
     "output_type": "execute_result"
    }
   ],
   "source": [
    "v = torch.arange(0,10,1)\n",
    "v"
   ]
  },
  {
   "cell_type": "code",
   "execution_count": 6,
   "metadata": {},
   "outputs": [
    {
     "data": {
      "text/plain": [
       "(tensor(0), tensor(9))"
      ]
     },
     "execution_count": 6,
     "metadata": {},
     "output_type": "execute_result"
    }
   ],
   "source": [
    "v.min(), v.max()"
   ]
  },
  {
   "cell_type": "code",
   "execution_count": 7,
   "metadata": {},
   "outputs": [
    {
     "data": {
      "text/plain": [
       "(tensor(9), tensor(0))"
      ]
     },
     "execution_count": 7,
     "metadata": {},
     "output_type": "execute_result"
    }
   ],
   "source": [
    "v.argmax(), v.argmin()"
   ]
  },
  {
   "cell_type": "code",
   "execution_count": 8,
   "metadata": {},
   "outputs": [
    {
     "data": {
      "text/plain": [
       "tensor([ 0,  2,  4,  6,  8, 10, 12, 14, 16, 18])"
      ]
     },
     "execution_count": 8,
     "metadata": {},
     "output_type": "execute_result"
    }
   ],
   "source": [
    "v2 = torch.arange(0,20,2)\n",
    "v2\n"
   ]
  },
  {
   "cell_type": "code",
   "execution_count": 9,
   "metadata": {},
   "outputs": [
    {
     "data": {
      "text/plain": [
       "(tensor(9), tensor(0))"
      ]
     },
     "execution_count": 9,
     "metadata": {},
     "output_type": "execute_result"
    }
   ],
   "source": [
    "#argmax returns the index of maximum value\n",
    "#argmin returns the index of minimum value\n",
    "v2.argmax(), v2.argmin()"
   ]
  },
  {
   "cell_type": "code",
   "execution_count": 10,
   "metadata": {},
   "outputs": [
    {
     "data": {
      "text/plain": [
       "tensor(0)"
      ]
     },
     "execution_count": 10,
     "metadata": {},
     "output_type": "execute_result"
    }
   ],
   "source": [
    "min_index = v2.argmin()\n",
    "min_index"
   ]
  },
  {
   "cell_type": "code",
   "execution_count": 11,
   "metadata": {},
   "outputs": [
    {
     "data": {
      "text/plain": [
       "tensor(9)"
      ]
     },
     "execution_count": 11,
     "metadata": {},
     "output_type": "execute_result"
    }
   ],
   "source": [
    "max_index = v2.argmax()\n",
    "max_index"
   ]
  },
  {
   "cell_type": "code",
   "execution_count": 13,
   "metadata": {},
   "outputs": [
    {
     "data": {
      "text/plain": [
       "(tensor([0, 1, 2, 3, 4, 5, 6, 7, 8, 9]), torch.int64)"
      ]
     },
     "execution_count": 13,
     "metadata": {},
     "output_type": "execute_result"
    }
   ],
   "source": [
    "flaot_tensor = torch.arange(0,10,1)\n",
    "flaot_tensor , flaot_tensor.dtype"
   ]
  },
  {
   "cell_type": "markdown",
   "metadata": {},
   "source": [
    "# tensor transpose"
   ]
  },
  {
   "cell_type": "code",
   "execution_count": 29,
   "metadata": {},
   "outputs": [],
   "source": [
    "random_tensor = torch.rand(2,6)"
   ]
  },
  {
   "cell_type": "code",
   "execution_count": 30,
   "metadata": {},
   "outputs": [
    {
     "data": {
      "text/plain": [
       "tensor([[0.9914, 0.6407, 0.7953, 0.8803, 0.8091, 0.8531],\n",
       "        [0.0836, 0.0924, 0.3503, 0.9607, 0.8140, 0.0551]])"
      ]
     },
     "execution_count": 30,
     "metadata": {},
     "output_type": "execute_result"
    }
   ],
   "source": [
    "random_tensor"
   ]
  },
  {
   "cell_type": "code",
   "execution_count": 31,
   "metadata": {},
   "outputs": [
    {
     "data": {
      "text/plain": [
       "tensor([[0.9914, 0.0836],\n",
       "        [0.6407, 0.0924],\n",
       "        [0.7953, 0.3503],\n",
       "        [0.8803, 0.9607],\n",
       "        [0.8091, 0.8140],\n",
       "        [0.8531, 0.0551]])"
      ]
     },
     "execution_count": 31,
     "metadata": {},
     "output_type": "execute_result"
    }
   ],
   "source": [
    "random_tensor_transpose = torch.transpose(random_tensor, dim0=1, dim1=0)\n",
    "\n",
    "random_tensor_transpose"
   ]
  },
  {
   "cell_type": "code",
   "execution_count": 32,
   "metadata": {},
   "outputs": [],
   "source": [
    "random_tensor_transpose_V2 = random_tensor.t()"
   ]
  },
  {
   "cell_type": "code",
   "execution_count": 33,
   "metadata": {},
   "outputs": [
    {
     "data": {
      "text/plain": [
       "tensor([[0.9914, 0.0836],\n",
       "        [0.6407, 0.0924],\n",
       "        [0.7953, 0.3503],\n",
       "        [0.8803, 0.9607],\n",
       "        [0.8091, 0.8140],\n",
       "        [0.8531, 0.0551]])"
      ]
     },
     "execution_count": 33,
     "metadata": {},
     "output_type": "execute_result"
    }
   ],
   "source": [
    "random_tensor_transpose_V2"
   ]
  },
  {
   "cell_type": "markdown",
   "metadata": {},
   "source": [
    "# mean"
   ]
  },
  {
   "cell_type": "code",
   "execution_count": 34,
   "metadata": {},
   "outputs": [
    {
     "data": {
      "text/plain": [
       "tensor(0.6105)"
      ]
     },
     "execution_count": 34,
     "metadata": {},
     "output_type": "execute_result"
    }
   ],
   "source": [
    "random_tensor_transpose_V2.mean()"
   ]
  },
  {
   "cell_type": "code",
   "execution_count": 35,
   "metadata": {},
   "outputs": [],
   "source": [
    "# mean tensor takes input dtype as float point"
   ]
  },
  {
   "cell_type": "markdown",
   "metadata": {},
   "source": [
    "# reshape"
   ]
  },
  {
   "cell_type": "code",
   "execution_count": 37,
   "metadata": {},
   "outputs": [
    {
     "data": {
      "text/plain": [
       "(tensor([ 0,  2,  4,  6,  8, 10, 12, 14, 16, 18]),\n",
       " torch.Size([10]),\n",
       " torch.int64)"
      ]
     },
     "execution_count": 37,
     "metadata": {},
     "output_type": "execute_result"
    }
   ],
   "source": [
    "v2 , v2.shape, v2.dtype"
   ]
  },
  {
   "cell_type": "code",
   "execution_count": 40,
   "metadata": {},
   "outputs": [
    {
     "data": {
      "text/plain": [
       "(tensor([[ 0,  2],\n",
       "         [ 4,  6],\n",
       "         [ 8, 10],\n",
       "         [12, 14],\n",
       "         [16, 18]]),\n",
       " tensor([[ 0,  2,  4,  6,  8],\n",
       "         [10, 12, 14, 16, 18]]))"
      ]
     },
     "execution_count": 40,
     "metadata": {},
     "output_type": "execute_result"
    }
   ],
   "source": [
    "reshaped1 = v2.reshape(5,-1)\n",
    "reshaped2 = v2.reshape(2,-1)\n",
    "reshaped1, reshaped2"
   ]
  },
  {
   "cell_type": "code",
   "execution_count": 41,
   "metadata": {},
   "outputs": [
    {
     "data": {
      "text/plain": [
       "(tensor([1., 2., 3., 4., 5., 6., 7.]), torch.Size([7]))"
      ]
     },
     "execution_count": 41,
     "metadata": {},
     "output_type": "execute_result"
    }
   ],
   "source": [
    "x = torch.arange(1., 8.)\n",
    "x, x.shape"
   ]
  },
  {
   "cell_type": "code",
   "execution_count": 42,
   "metadata": {},
   "outputs": [
    {
     "data": {
      "text/plain": [
       "(tensor([[1., 2., 3., 4., 5., 6., 7.]]), torch.Size([1, 7]))"
      ]
     },
     "execution_count": 42,
     "metadata": {},
     "output_type": "execute_result"
    }
   ],
   "source": [
    "x_reshaped = x.reshape(1, 7)\n",
    "x_reshaped, x_reshaped.shape"
   ]
  },
  {
   "cell_type": "markdown",
   "metadata": {},
   "source": [
    "# stacked tensor\n"
   ]
  },
  {
   "cell_type": "markdown",
   "metadata": {},
   "source": [
    "##### concatenate a sequence of tensors together along another dimension"
   ]
  },
  {
   "cell_type": "code",
   "execution_count": 47,
   "metadata": {},
   "outputs": [],
   "source": [
    "x = torch.rand(4,4)"
   ]
  },
  {
   "cell_type": "code",
   "execution_count": 48,
   "metadata": {},
   "outputs": [
    {
     "data": {
      "text/plain": [
       "tensor([[0.0174, 0.2329, 0.2741, 0.3443],\n",
       "        [0.2336, 0.8370, 0.3503, 0.0119],\n",
       "        [0.3066, 0.0978, 0.1302, 0.4405],\n",
       "        [0.7680, 0.6126, 0.6007, 0.7412]])"
      ]
     },
     "execution_count": 48,
     "metadata": {},
     "output_type": "execute_result"
    }
   ],
   "source": [
    "x "
   ]
  },
  {
   "cell_type": "code",
   "execution_count": 50,
   "metadata": {},
   "outputs": [
    {
     "data": {
      "text/plain": [
       "tensor([[[0.0174, 0.2329, 0.2741, 0.3443],\n",
       "         [0.2336, 0.8370, 0.3503, 0.0119],\n",
       "         [0.3066, 0.0978, 0.1302, 0.4405],\n",
       "         [0.7680, 0.6126, 0.6007, 0.7412]],\n",
       "\n",
       "        [[0.0174, 0.2329, 0.2741, 0.3443],\n",
       "         [0.2336, 0.8370, 0.3503, 0.0119],\n",
       "         [0.3066, 0.0978, 0.1302, 0.4405],\n",
       "         [0.7680, 0.6126, 0.6007, 0.7412]],\n",
       "\n",
       "        [[0.0174, 0.2329, 0.2741, 0.3443],\n",
       "         [0.2336, 0.8370, 0.3503, 0.0119],\n",
       "         [0.3066, 0.0978, 0.1302, 0.4405],\n",
       "         [0.7680, 0.6126, 0.6007, 0.7412]],\n",
       "\n",
       "        [[0.0174, 0.2329, 0.2741, 0.3443],\n",
       "         [0.2336, 0.8370, 0.3503, 0.0119],\n",
       "         [0.3066, 0.0978, 0.1302, 0.4405],\n",
       "         [0.7680, 0.6126, 0.6007, 0.7412]]])"
      ]
     },
     "execution_count": 50,
     "metadata": {},
     "output_type": "execute_result"
    }
   ],
   "source": [
    "stacked_tensor = torch.stack([x,x,x,x], dim=0)\n",
    "stacked_tensor"
   ]
  },
  {
   "cell_type": "markdown",
   "metadata": {},
   "source": [
    "# squeeze method"
   ]
  },
  {
   "cell_type": "code",
   "execution_count": 52,
   "metadata": {},
   "outputs": [],
   "source": [
    "tensor_mod = tensor.reshape(1, -1)"
   ]
  },
  {
   "cell_type": "code",
   "execution_count": 53,
   "metadata": {},
   "outputs": [
    {
     "data": {
      "text/plain": [
       "(tensor([[0.5094, 0.2445, 0.5675, 0.8581, 0.1823, 0.4298, 0.4019, 0.4713, 0.3279,\n",
       "          0.0902, 0.9274, 0.6760, 0.8478, 0.0229, 0.8725, 0.1754]]),\n",
       " torch.Size([1, 16]))"
      ]
     },
     "execution_count": 53,
     "metadata": {},
     "output_type": "execute_result"
    }
   ],
   "source": [
    "tensor_mod, tensor_mod.shape"
   ]
  },
  {
   "cell_type": "code",
   "execution_count": 54,
   "metadata": {},
   "outputs": [
    {
     "data": {
      "text/plain": [
       "(tensor([0.5094, 0.2445, 0.5675, 0.8581, 0.1823, 0.4298, 0.4019, 0.4713, 0.3279,\n",
       "         0.0902, 0.9274, 0.6760, 0.8478, 0.0229, 0.8725, 0.1754]),\n",
       " torch.Size([16]))"
      ]
     },
     "execution_count": 54,
     "metadata": {},
     "output_type": "execute_result"
    }
   ],
   "source": [
    "# squeeze removves the extra dimensions (1, 16) will be (, 16)\n",
    "squeeze_tensor = tensor_mod.squeeze()\n",
    "squeeze_tensor, squeeze_tensor.shape"
   ]
  },
  {
   "cell_type": "markdown",
   "metadata": {},
   "source": [
    "# unsqueeze method "
   ]
  },
  {
   "cell_type": "code",
   "execution_count": 56,
   "metadata": {},
   "outputs": [],
   "source": [
    "unsqueeze_tensorV1 = squeeze_tensor.unsqueeze(dim=1)\n"
   ]
  },
  {
   "cell_type": "code",
   "execution_count": 57,
   "metadata": {},
   "outputs": [
    {
     "data": {
      "text/plain": [
       "(tensor([[0.5094],\n",
       "         [0.2445],\n",
       "         [0.5675],\n",
       "         [0.8581],\n",
       "         [0.1823],\n",
       "         [0.4298],\n",
       "         [0.4019],\n",
       "         [0.4713],\n",
       "         [0.3279],\n",
       "         [0.0902],\n",
       "         [0.9274],\n",
       "         [0.6760],\n",
       "         [0.8478],\n",
       "         [0.0229],\n",
       "         [0.8725],\n",
       "         [0.1754]]),\n",
       " torch.Size([16, 1]))"
      ]
     },
     "execution_count": 57,
     "metadata": {},
     "output_type": "execute_result"
    }
   ],
   "source": [
    "unsqueeze_tensorV1, unsqueeze_tensorV1.shape"
   ]
  },
  {
   "cell_type": "markdown",
   "metadata": {},
   "source": [
    "# permute"
   ]
  },
  {
   "cell_type": "code",
   "execution_count": 60,
   "metadata": {},
   "outputs": [
    {
     "data": {
      "text/plain": [
       "tensor([[[0.1542, 0.0078, 0.7580],\n",
       "         [0.0819, 0.0541, 0.7717],\n",
       "         [0.0456, 0.2567, 0.0044],\n",
       "         ...,\n",
       "         [0.2521, 0.4003, 0.8561],\n",
       "         [0.5419, 0.8383, 0.1248],\n",
       "         [0.2150, 0.5499, 0.1768]],\n",
       "\n",
       "        [[0.9821, 0.7942, 0.8394],\n",
       "         [0.7054, 0.0554, 0.4402],\n",
       "         [0.8542, 0.1240, 0.7711],\n",
       "         ...,\n",
       "         [0.0144, 0.3107, 0.7047],\n",
       "         [0.6540, 0.1386, 0.0316],\n",
       "         [0.4117, 0.6191, 0.3328]],\n",
       "\n",
       "        [[0.1176, 0.8373, 0.4453],\n",
       "         [0.4470, 0.6028, 0.0816],\n",
       "         [0.8165, 0.5089, 0.3937],\n",
       "         ...,\n",
       "         [0.0959, 0.0335, 0.2336],\n",
       "         [0.6945, 0.7351, 0.6220],\n",
       "         [0.7910, 0.6853, 0.7296]],\n",
       "\n",
       "        ...,\n",
       "\n",
       "        [[0.2268, 0.0268, 0.9787],\n",
       "         [0.8480, 0.9751, 0.7358],\n",
       "         [0.2123, 0.8764, 0.9462],\n",
       "         ...,\n",
       "         [0.9699, 0.3076, 0.0857],\n",
       "         [0.4035, 0.3533, 0.7423],\n",
       "         [0.1215, 0.7053, 0.5593]],\n",
       "\n",
       "        [[0.1174, 0.5423, 0.7725],\n",
       "         [0.9901, 0.6474, 0.3384],\n",
       "         [0.2736, 0.8476, 0.8023],\n",
       "         ...,\n",
       "         [0.9198, 0.5964, 0.9236],\n",
       "         [0.3477, 0.9135, 0.4629],\n",
       "         [0.0049, 0.8646, 0.8189]],\n",
       "\n",
       "        [[0.7085, 0.5200, 0.6548],\n",
       "         [0.0998, 0.2229, 0.3887],\n",
       "         [0.6978, 0.0615, 0.4460],\n",
       "         ...,\n",
       "         [0.2524, 0.3499, 0.2392],\n",
       "         [0.8091, 0.0741, 0.1184],\n",
       "         [0.5931, 0.2559, 0.2961]]])"
      ]
     },
     "execution_count": 60,
     "metadata": {},
     "output_type": "execute_result"
    }
   ],
   "source": [
    "i = torch.rand(224,228,3)\n",
    "i"
   ]
  },
  {
   "cell_type": "code",
   "execution_count": 61,
   "metadata": {},
   "outputs": [
    {
     "data": {
      "text/plain": [
       "torch.Size([224, 228, 3])"
      ]
     },
     "execution_count": 61,
     "metadata": {},
     "output_type": "execute_result"
    }
   ],
   "source": [
    "i.shape"
   ]
  },
  {
   "cell_type": "code",
   "execution_count": 65,
   "metadata": {},
   "outputs": [
    {
     "data": {
      "text/plain": [
       "torch.Size([3, 228, 224])"
      ]
     },
     "execution_count": 65,
     "metadata": {},
     "output_type": "execute_result"
    }
   ],
   "source": [
    "# i want to swap the third index (2) with the first index (0)\n",
    "i_permuted = torch.permute(i ,(2, 1, 0))\n",
    "i_permuted.shape"
   ]
  },
  {
   "cell_type": "code",
   "execution_count": null,
   "metadata": {},
   "outputs": [],
   "source": []
  }
 ],
 "metadata": {
  "kernelspec": {
   "display_name": "base",
   "language": "python",
   "name": "python3"
  },
  "language_info": {
   "codemirror_mode": {
    "name": "ipython",
    "version": 3
   },
   "file_extension": ".py",
   "mimetype": "text/x-python",
   "name": "python",
   "nbconvert_exporter": "python",
   "pygments_lexer": "ipython3",
   "version": "3.9.12"
  }
 },
 "nbformat": 4,
 "nbformat_minor": 2
}
