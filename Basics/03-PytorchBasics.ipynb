{
 "cells": [
  {
   "cell_type": "code",
   "execution_count": 7,
   "metadata": {},
   "outputs": [],
   "source": [
    "import torch\n",
    "import matplotlib.pyplot as plt"
   ]
  },
  {
   "cell_type": "code",
   "execution_count": 5,
   "metadata": {},
   "outputs": [
    {
     "data": {
      "text/plain": [
       "(torch.Size([50]), torch.Size([50]))"
      ]
     },
     "execution_count": 5,
     "metadata": {},
     "output_type": "execute_result"
    }
   ],
   "source": [
    "#dummy data\n",
    "weight = 0.7\n",
    "bias = 0.3\n",
    "\n",
    "X = torch.arange(0,1,0.02)\n",
    "\n",
    "y = weight * X + bias\n",
    "\n",
    "X.shape , y.shape "
   ]
  },
  {
   "cell_type": "code",
   "execution_count": 3,
   "metadata": {},
   "outputs": [
    {
     "data": {
      "text/plain": [
       "(tensor([0.0000, 0.0200, 0.0400, 0.0600, 0.0800]),\n",
       " tensor([0.3000, 0.3140, 0.3280, 0.3420, 0.3560]))"
      ]
     },
     "execution_count": 3,
     "metadata": {},
     "output_type": "execute_result"
    }
   ],
   "source": [
    "X[:5], y[:5] "
   ]
  },
  {
   "cell_type": "code",
   "execution_count": 6,
   "metadata": {},
   "outputs": [
    {
     "data": {
      "text/plain": [
       "(40, 10, 40, 10)"
      ]
     },
     "execution_count": 6,
     "metadata": {},
     "output_type": "execute_result"
    }
   ],
   "source": [
    "#split the data into training and testing set\n",
    "#[80% training, and %20 testing]\n",
    "\n",
    "train_split = int(0.8*len(X))\n",
    "\n",
    "X_train, X_test = X[:train_split], X[train_split:]\n",
    "\n",
    "y_train, y_test = y[:train_split], y[train_split:]\n",
    "\n",
    "len(X_train), len(X_test), len(y_train), len(y_test)"
   ]
  },
  {
   "cell_type": "code",
   "execution_count": 41,
   "metadata": {},
   "outputs": [
    {
     "data": {
      "image/png": "[encoded data removed]",
      "text/plain": [
       "<Figure size 720x720 with 1 Axes>"
      ]
     },
     "metadata": {
      "needs_background": "light"
     },
     "output_type": "display_data"
    }
   ],
   "source": [
    "def plot_prediction(train_data=X_train, \n",
    "                    train_labels=y_train,\n",
    "                    test_data=X_test, \n",
    "                    test_labels=y_test,\n",
    "                    predictions=None):\n",
    "    \"\"\"\n",
    "    Plots training and testing data and predictions\n",
    "    \"\"\"\n",
    "    plt.figure(figsize=(10, 10))  \n",
    "    \n",
    "    # Plot training data\n",
    "    plt.scatter(train_data, train_labels,\n",
    "                color='blue',\n",
    "                label='Training data')\n",
    "\n",
    "    # Plot test data\n",
    "    plt.scatter(test_data, test_labels,\n",
    "                color='red',\n",
    "                label='True values')\n",
    "\n",
    "    # Plot predicted values if available\n",
    "    if predictions is not None:\n",
    "        plt.scatter(test_data, predictions,\n",
    "                    color='green',\n",
    "                    label='Predicted values')\n",
    "\n",
    "    # Show the legend\n",
    "    plt.legend(prop={\"size\": 15})\n",
    "\n",
    "    # Show the plot\n",
    "    plt.show()\n",
    "\n",
    "plot_prediction()"
   ]
  },
  {
   "cell_type": "code",
   "execution_count": 42,
   "metadata": {},
   "outputs": [
    {
     "data": {
      "image/png": "[encoded data removed]",
      "text/plain": [
       "<Figure size 720x720 with 1 Axes>"
      ]
     },
     "metadata": {
      "needs_background": "light"
     },
     "output_type": "display_data"
    }
   ],
   "source": [
    "plot_prediction()"
   ]
  },
  {
   "cell_type": "markdown",
   "metadata": {},
   "source": [
    "## building the model "
   ]
  },
  {
   "cell_type": "code",
   "execution_count": 20,
   "metadata": {},
   "outputs": [],
   "source": [
    "import torch.nn as nn"
   ]
  },
  {
   "cell_type": "code",
   "execution_count": 31,
   "metadata": {},
   "outputs": [],
   "source": [
    "# create a linear regression model\n",
    "class LinearRegressionModel(nn.Module):\n",
    "    def __init__(self):\n",
    "        super().__init__()\n",
    "        self.weights = nn.Parameter(torch.randn(1,dtype=torch.float),\n",
    "                                    requires_grad=True) \n",
    "        self.bias = nn.Parameter(torch.randn(1,dtype=torch.float),\n",
    "                                requires_grad=True)\n",
    "        \n",
    "    def forward(self, x: torch.Tensor) -> torch.Tensor: # takes self and x(torch.tensor) and return torch.Tensor\n",
    "        # y = weight * x + bias  -> -> -> x is the input in my model\n",
    "        return self.weights * x + self.bias"
   ]
  },
  {
   "cell_type": "code",
   "execution_count": 32,
   "metadata": {},
   "outputs": [],
   "source": [
    "# check the content of the model\n",
    "torch.manual_seed(42)\n",
    "# create an instance of LinearRegressionModel\n",
    "model0 = LinearRegressionModel()"
   ]
  },
  {
   "cell_type": "code",
   "execution_count": 33,
   "metadata": {},
   "outputs": [
    {
     "data": {
      "text/plain": [
       "[Parameter containing:\n",
       " tensor([0.3367], requires_grad=True),\n",
       " Parameter containing:\n",
       " tensor([0.1288], requires_grad=True)]"
      ]
     },
     "execution_count": 33,
     "metadata": {},
     "output_type": "execute_result"
    }
   ],
   "source": [
    "# To see parameters of the model \n",
    "list(model0.parameters())"
   ]
  },
  {
   "cell_type": "code",
   "execution_count": 34,
   "metadata": {},
   "outputs": [
    {
     "data": {
      "text/plain": [
       "OrderedDict([('weights', tensor([0.3367])), ('bias', tensor([0.1288]))])"
      ]
     },
     "execution_count": 34,
     "metadata": {},
     "output_type": "execute_result"
    }
   ],
   "source": [
    "# state dictionary -> parameters of the model and its values\n",
    "model0.state_dict()"
   ]
  },
  {
   "cell_type": "code",
   "execution_count": 35,
   "metadata": {},
   "outputs": [],
   "source": [
    "# y = weight(0.3367) * x + bias(0.1288)\n",
    "# these are the random weights of the model\n",
    "# if we want to plot the output of the model beore training "
   ]
  },
  {
   "cell_type": "code",
   "execution_count": 36,
   "metadata": {},
   "outputs": [],
   "source": [
    "# how to make a [prediction] using this model  inference_mode same as autograd\n",
    "with torch.inference_mode():\n",
    "    y_preds = model0(X_test)\n",
    "    "
   ]
  },
  {
   "cell_type": "code",
   "execution_count": 38,
   "metadata": {},
   "outputs": [
    {
     "name": "stdout",
     "output_type": "stream",
     "text": [
      "10\n",
      "10\n"
     ]
    }
   ],
   "source": [
    "print(len(y_preds))\n",
    "print(len(X_test))"
   ]
  },
  {
   "cell_type": "code",
   "execution_count": 39,
   "metadata": {},
   "outputs": [
    {
     "name": "stdout",
     "output_type": "stream",
     "text": [
      "tensor([0.3982, 0.4049, 0.4116, 0.4184, 0.4251, 0.4318, 0.4386, 0.4453, 0.4520,\n",
      "        0.4588])\n"
     ]
    }
   ],
   "source": [
    "print(y_preds)"
   ]
  },
  {
   "cell_type": "code",
   "execution_count": 43,
   "metadata": {},
   "outputs": [
    {
     "data": {
      "image/png": "[encoded data removed]",
      "text/plain": [
       "<Figure size 720x720 with 1 Axes>"
      ]
     },
     "metadata": {
      "needs_background": "light"
     },
     "output_type": "display_data"
    }
   ],
   "source": [
    "plot_prediction(predictions=y_preds)"
   ]
  },
  {
   "cell_type": "markdown",
   "metadata": {},
   "source": [
    "# training the model"
   ]
  },
  {
   "cell_type": "code",
   "execution_count": 44,
   "metadata": {},
   "outputs": [],
   "source": [
    "# create a loss function\n",
    "loss_function = nn.L1Loss()\n"
   ]
  },
  {
   "cell_type": "code",
   "execution_count": 45,
   "metadata": {},
   "outputs": [],
   "source": [
    "# create an optimizer\n",
    "optimizer = torch.optim.SGD(params=model0.parameters(),\n",
    "                            lr=0.01)"
   ]
  },
  {
   "cell_type": "code",
   "execution_count": 50,
   "metadata": {},
   "outputs": [
    {
     "name": "stdout",
     "output_type": "stream",
     "text": [
      "Epoch: 0 | Train Loss: 0.008932482451200485 | Test Loss: 0.005023092031478882\n",
      "Epoch: 10 | Train Loss: 0.008932482451200485 | Test Loss: 0.005023092031478882\n",
      "Epoch: 20 | Train Loss: 0.008932482451200485 | Test Loss: 0.005023092031478882\n",
      "Epoch: 30 | Train Loss: 0.008932482451200485 | Test Loss: 0.005023092031478882\n",
      "Epoch: 40 | Train Loss: 0.008932482451200485 | Test Loss: 0.005023092031478882\n",
      "Epoch: 50 | Train Loss: 0.008932482451200485 | Test Loss: 0.005023092031478882\n",
      "Epoch: 60 | Train Loss: 0.008932482451200485 | Test Loss: 0.005023092031478882\n",
      "Epoch: 70 | Train Loss: 0.008932482451200485 | Test Loss: 0.005023092031478882\n",
      "Epoch: 80 | Train Loss: 0.008932482451200485 | Test Loss: 0.005023092031478882\n",
      "Epoch: 90 | Train Loss: 0.008932482451200485 | Test Loss: 0.005023092031478882\n",
      "Epoch: 100 | Train Loss: 0.008932482451200485 | Test Loss: 0.005023092031478882\n",
      "Epoch: 110 | Train Loss: 0.008932482451200485 | Test Loss: 0.005023092031478882\n",
      "Epoch: 120 | Train Loss: 0.008932482451200485 | Test Loss: 0.005023092031478882\n",
      "Epoch: 130 | Train Loss: 0.008932482451200485 | Test Loss: 0.005023092031478882\n",
      "Epoch: 140 | Train Loss: 0.008932482451200485 | Test Loss: 0.005023092031478882\n",
      "Epoch: 150 | Train Loss: 0.008932482451200485 | Test Loss: 0.005023092031478882\n",
      "Epoch: 160 | Train Loss: 0.008932482451200485 | Test Loss: 0.005023092031478882\n",
      "Epoch: 170 | Train Loss: 0.008932482451200485 | Test Loss: 0.005023092031478882\n",
      "Epoch: 180 | Train Loss: 0.008932482451200485 | Test Loss: 0.005023092031478882\n",
      "Epoch: 190 | Train Loss: 0.008932482451200485 | Test Loss: 0.005023092031478882\n"
     ]
    }
   ],
   "source": [
    "torch.manual_seed(42)\n",
    "epochs = 200\n",
    "\n",
    "train_loss_values = []\n",
    "test_loss_values = []\n",
    "epoch_count = []\n",
    "\n",
    "for epoch in range(epochs):\n",
    "    model0.train()\n",
    "    \n",
    "    # forward pass\n",
    "    y_pred = model0(X_train)\n",
    "\n",
    "    # calc the loss\n",
    "    loss = loss_function(y_pred, y_train)\n",
    "\n",
    "    # zero grad\n",
    "    optimizer.zero_grad()\n",
    "\n",
    "    # backward pass\n",
    "    loss.backward()\n",
    "\n",
    "    # update weights\n",
    "    optimizer.step()\n",
    "\n",
    "    # evaluation mode\n",
    "    model0.eval()\n",
    "\n",
    "    with torch.inference_mode():\n",
    "        test_pred = model0(X_test)\n",
    "\n",
    "        # calc the test loss\n",
    "        test_loss = loss_function(test_pred, y_test)\n",
    "\n",
    "    # print after each 10 epochs\n",
    "    if epoch % 10 == 0:\n",
    "        epoch_count.append(epoch)\n",
    "        train_loss_values.append(loss.detach().numpy())\n",
    "        test_loss_values.append(test_loss.detach().numpy())      \n",
    "        print(f'Epoch: {epoch} | Train Loss: {loss} | Test Loss: {test_loss}')\n"
   ]
  },
  {
   "cell_type": "code",
   "execution_count": null,
   "metadata": {},
   "outputs": [],
   "source": []
  }
 ],
 "metadata": {
  "kernelspec": {
   "display_name": "base",
   "language": "python",
   "name": "python3"
  },
  "language_info": {
   "codemirror_mode": {
    "name": "ipython",
    "version": 3
   },
   "file_extension": ".py",
   "mimetype": "text/x-python",
   "name": "python",
   "nbconvert_exporter": "python",
   "pygments_lexer": "ipython3",
   "version": "3.9.12"
  }
 },
 "nbformat": 4,
 "nbformat_minor": 2
}
