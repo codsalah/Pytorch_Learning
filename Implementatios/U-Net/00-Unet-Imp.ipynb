{
 "cells": [
  {
   "cell_type": "code",
   "execution_count": 1,
   "metadata": {},
   "outputs": [],
   "source": [
    "import torch\n",
    "from torch import nn"
   ]
  },
  {
   "cell_type": "code",
   "execution_count": 2,
   "metadata": {},
   "outputs": [],
   "source": [
    "image = torch.randn((1,1,572,572))  # B,H,W,H\n"
   ]
  },
  {
   "cell_type": "code",
   "execution_count": 12,
   "metadata": {},
   "outputs": [],
   "source": [
    "def double_convs(in_channels, out_channels, kernel_size = 3):\n",
    "    return nn.Sequential(\n",
    "        nn.Conv2d(in_channels, out_channels, kernel_size),\n",
    "        nn.ReLU(inplace=True),\n",
    "        nn.Conv2d(out_channels, out_channels, kernel_size),\n",
    "        nn.ReLU(inplace=True),\n",
    "    )"
   ]
  },
  {
   "cell_type": "code",
   "execution_count": 51,
   "metadata": {},
   "outputs": [],
   "source": [
    "def crop_image(tensor, target_tensor):\n",
    "    target_size = target_tensor.size()[2]  # 56\n",
    "    tensor_size = tensor.size()[2] # 64\n",
    "    #delta [1, 512, 64 - 4 , 64 - 4 ]\n",
    "    delta = tensor_size - target_size\n",
    "    delta = delta // 2\n",
    "    return tensor[:, :, delta:tensor_size - delta, delta:tensor_size - delta]"
   ]
  },
  {
   "cell_type": "code",
   "execution_count": 76,
   "metadata": {},
   "outputs": [],
   "source": [
    "class UNet(nn.Module):\n",
    "    def __init__(self):\n",
    "        super(UNet, self).__init__()\n",
    "\n",
    "        #building blocks for UNet\n",
    "        ##encoder part -> first (  right  ) half \n",
    "        self.max_pool_2x2 = nn.MaxPool2d(kernel_size= 2, stride= 2)\n",
    "        self.down_conv_1 = double_convs(1,64)\n",
    "        self.down_conv_2 = double_convs(64,128)\n",
    "        self.down_conv_3 = double_convs(128,256)\n",
    "        self.down_conv_4 = double_convs(256,512)\n",
    "        self.down_conv_5 = double_convs(512,1024)\n",
    "\n",
    "        ##decoder part -> second (  left  ) half \n",
    "        self.up_trans_1 = nn.ConvTranspose2d(in_channels=1024,\n",
    "                                             out_channels=512,\n",
    "                                             kernel_size=2,\n",
    "                                             stride=2)      #green arrow\n",
    "        self.up_conv_1 = double_convs(1024, 512)            # blue arrow\n",
    "        self.up_trans_2 = nn.ConvTranspose2d(in_channels=512,\n",
    "                                             out_channels=256,\n",
    "                                             kernel_size=2,\n",
    "                                             stride=2)\n",
    "        self.up_conv_2 = double_convs(512, 256)\n",
    "        self.up_trans_3 = nn.ConvTranspose2d(in_channels=256,\n",
    "                                             out_channels=128,\n",
    "                                             kernel_size=2,\n",
    "                                             stride=2)\n",
    "        self.up_conv_3 = double_convs(256,128)\n",
    "        self.up_trans_4 = nn.ConvTranspose2d(in_channels=128,\n",
    "                                             out_channels=64,\n",
    "                                             kernel_size=2,\n",
    "                                             stride=2)\n",
    "        self.up_conv_4 = double_convs(128,64)\n",
    "        self.out_conv = nn.Conv2d(64,2,kernel_size=1)\n",
    "\n",
    "\n",
    "    def forward(self, x:torch.Tensor) -> torch.Tensor:  #return torch.Tensor\n",
    "        #specify how the tensor move through the convolution architecture\n",
    "        #encoder part -> first (  right  ) half #input x -> image\n",
    "        X1 = self.down_conv_1(x)    #--> will be concatenated\n",
    "        X2 = self.max_pool_2x2(X1)\n",
    "        X3 = self.down_conv_2(X2)   #--> will be concatenated\n",
    "        X4 = self.max_pool_2x2(X3)\n",
    "        X5 = self.down_conv_3(X4)   #--> will be concatenated\n",
    "        X6 = self.max_pool_2x2(X5)\n",
    "        X7 = self.down_conv_4(X6)   #--> will be concatenated\n",
    "        X8 = self.max_pool_2x2(X7)\n",
    "        X9 = self.down_conv_5(X8)\n",
    "\n",
    "\n",
    "        ##decoder part -> second (  left  ) half\n",
    "        X10 = self.up_trans_1(X9)\n",
    "        crop = crop_image(X7, X10)\n",
    "        X11 = self.up_conv_1(torch.concat((X10, crop), dim=1)) #concatenate x10 with x7\n",
    "        print(X11.shape) # -> torch.Size([1, 512, 52, 52])\n",
    "\n",
    "        # print(f\"this is X7{X7.shape},\\n \\t X10{X10.shape},\\n\")\n",
    "        # print(f\"this is crop shape {crop.shape}\")\n",
    "\n",
    "        X12 = self.up_trans_2(X11)\n",
    "        crop = crop_image(X5, X12)\n",
    "        X13 = self.up_conv_2(torch.concat((X12, crop), dim=1)) #concatenate X12 with X5\n",
    "        print(X13.shape) # -> torch.Size([1, 256, 100, 100])\n",
    "\n",
    "\n",
    "        X14 = self.up_trans_3(X13)\n",
    "        crop = crop_image(X3, X14)\n",
    "        X15 = self.up_conv_3(torch.concat((X14, crop), dim=1)) #concatenate X14 with X3\n",
    "        print(X15.shape) # -> torch.Size([1, 128, 196, 196])\n",
    "\n",
    "\n",
    "\n",
    "        X16 = self.up_trans_4(X15)\n",
    "        crop = crop_image(X1, X16)\n",
    "        X17 = self.up_conv_4(torch.concat((X16, crop), dim=1)) #concatenate X16 with X1\n",
    "        print(X16.shape) # -> torch.Size([1, 64, 392, 392])\n",
    "\n",
    "        X18 = self.out_conv(X17)\n",
    "        print(X18.shape) # -> torch.Size([1, 2, 388, 388])\n",
    "\n",
    "\n",
    "\n",
    "\n",
    "            "
   ]
  },
  {
   "cell_type": "code",
   "execution_count": 77,
   "metadata": {},
   "outputs": [
    {
     "name": "stdout",
     "output_type": "stream",
     "text": [
      "torch.Size([1, 512, 52, 52])\n",
      "torch.Size([1, 256, 100, 100])\n",
      "torch.Size([1, 128, 196, 196])\n",
      "torch.Size([1, 64, 392, 392])\n",
      "torch.Size([1, 2, 388, 388])\n"
     ]
    }
   ],
   "source": [
    "medel_1 = UNet()\n",
    "t = medel_1(image)\n",
    "t"
   ]
  },
  {
   "cell_type": "code",
   "execution_count": 18,
   "metadata": {},
   "outputs": [],
   "source": [
    " "
   ]
  },
  {
   "cell_type": "code",
   "execution_count": null,
   "metadata": {},
   "outputs": [],
   "source": []
  },
  {
   "cell_type": "code",
   "execution_count": null,
   "metadata": {},
   "outputs": [],
   "source": []
  },
  {
   "cell_type": "code",
   "execution_count": null,
   "metadata": {},
   "outputs": [],
   "source": []
  },
  {
   "cell_type": "code",
   "execution_count": null,
   "metadata": {},
   "outputs": [],
   "source": []
  },
  {
   "cell_type": "code",
   "execution_count": null,
   "metadata": {},
   "outputs": [],
   "source": []
  }
 ],
 "metadata": {
  "kernelspec": {
   "display_name": "Python 3",
   "language": "python",
   "name": "python3"
  },
  "language_info": {
   "codemirror_mode": {
    "name": "ipython",
    "version": 3
   },
   "file_extension": ".py",
   "mimetype": "text/x-python",
   "name": "python",
   "nbconvert_exporter": "python",
   "pygments_lexer": "ipython3",
   "version": "3.11.5"
  }
 },
 "nbformat": 4,
 "nbformat_minor": 2
}
